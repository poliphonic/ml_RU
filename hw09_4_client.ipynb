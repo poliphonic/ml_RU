{
 "cells": [
  {
   "cell_type": "code",
   "execution_count": 1,
   "id": "4689c0aa",
   "metadata": {},
   "outputs": [],
   "source": [
    "import pandas as pd\n",
    "import random\n",
    "import requests"
   ]
  },
  {
   "cell_type": "code",
   "execution_count": 2,
   "id": "94d0a525",
   "metadata": {},
   "outputs": [
    {
     "data": {
      "text/html": [
       "<div>\n",
       "<style scoped>\n",
       "    .dataframe tbody tr th:only-of-type {\n",
       "        vertical-align: middle;\n",
       "    }\n",
       "\n",
       "    .dataframe tbody tr th {\n",
       "        vertical-align: top;\n",
       "    }\n",
       "\n",
       "    .dataframe thead th {\n",
       "        text-align: right;\n",
       "    }\n",
       "</style>\n",
       "<table border=\"1\" class=\"dataframe\">\n",
       "  <thead>\n",
       "    <tr style=\"text-align: right;\">\n",
       "      <th></th>\n",
       "      <th>Age</th>\n",
       "      <th>Gender</th>\n",
       "      <th>Family History</th>\n",
       "      <th>Personal History</th>\n",
       "      <th>Current Stressors</th>\n",
       "      <th>Symptoms</th>\n",
       "      <th>Severity</th>\n",
       "      <th>Impact on Life</th>\n",
       "      <th>Demographics</th>\n",
       "      <th>Medical History</th>\n",
       "      <th>Psychiatric History</th>\n",
       "      <th>Substance Use</th>\n",
       "      <th>Coping Mechanisms</th>\n",
       "      <th>Social Support</th>\n",
       "      <th>Lifestyle Factors</th>\n",
       "    </tr>\n",
       "    <tr>\n",
       "      <th>Participant ID</th>\n",
       "      <th></th>\n",
       "      <th></th>\n",
       "      <th></th>\n",
       "      <th></th>\n",
       "      <th></th>\n",
       "      <th></th>\n",
       "      <th></th>\n",
       "      <th></th>\n",
       "      <th></th>\n",
       "      <th></th>\n",
       "      <th></th>\n",
       "      <th></th>\n",
       "      <th></th>\n",
       "      <th></th>\n",
       "      <th></th>\n",
       "    </tr>\n",
       "  </thead>\n",
       "  <tbody>\n",
       "    <tr>\n",
       "      <th>1</th>\n",
       "      <td>41</td>\n",
       "      <td>Male</td>\n",
       "      <td>Yes</td>\n",
       "      <td>No</td>\n",
       "      <td>High</td>\n",
       "      <td>Shortness of breath</td>\n",
       "      <td>Mild</td>\n",
       "      <td>Mild</td>\n",
       "      <td>Urban</td>\n",
       "      <td>Diabetes</td>\n",
       "      <td>Bipolar disorder</td>\n",
       "      <td>Alcohol</td>\n",
       "      <td>Seeking therapy</td>\n",
       "      <td>Low</td>\n",
       "      <td>Exercise</td>\n",
       "    </tr>\n",
       "    <tr>\n",
       "      <th>2</th>\n",
       "      <td>20</td>\n",
       "      <td>Female</td>\n",
       "      <td>Yes</td>\n",
       "      <td>No</td>\n",
       "      <td>Low</td>\n",
       "      <td>Shortness of breath</td>\n",
       "      <td>Mild</td>\n",
       "      <td>Significant</td>\n",
       "      <td>Urban</td>\n",
       "      <td>Asthma</td>\n",
       "      <td>Anxiety disorder</td>\n",
       "      <td>Drugs</td>\n",
       "      <td>Exercise</td>\n",
       "      <td>High</td>\n",
       "      <td>Diet</td>\n",
       "    </tr>\n",
       "    <tr>\n",
       "      <th>3</th>\n",
       "      <td>32</td>\n",
       "      <td>Male</td>\n",
       "      <td>Yes</td>\n",
       "      <td>Yes</td>\n",
       "      <td>High</td>\n",
       "      <td>Panic attacks</td>\n",
       "      <td>Severe</td>\n",
       "      <td>Mild</td>\n",
       "      <td>Rural</td>\n",
       "      <td>Heart disease</td>\n",
       "      <td>Bipolar disorder</td>\n",
       "      <td>Drugs</td>\n",
       "      <td>Meditation</td>\n",
       "      <td>Moderate</td>\n",
       "      <td>Exercise</td>\n",
       "    </tr>\n",
       "    <tr>\n",
       "      <th>4</th>\n",
       "      <td>41</td>\n",
       "      <td>Female</td>\n",
       "      <td>Yes</td>\n",
       "      <td>Yes</td>\n",
       "      <td>Moderate</td>\n",
       "      <td>Shortness of breath</td>\n",
       "      <td>Moderate</td>\n",
       "      <td>Significant</td>\n",
       "      <td>Urban</td>\n",
       "      <td>Heart disease</td>\n",
       "      <td>Anxiety disorder</td>\n",
       "      <td>NaN</td>\n",
       "      <td>Exercise</td>\n",
       "      <td>High</td>\n",
       "      <td>Sleep quality</td>\n",
       "    </tr>\n",
       "    <tr>\n",
       "      <th>5</th>\n",
       "      <td>36</td>\n",
       "      <td>Female</td>\n",
       "      <td>Yes</td>\n",
       "      <td>No</td>\n",
       "      <td>High</td>\n",
       "      <td>Chest pain</td>\n",
       "      <td>Severe</td>\n",
       "      <td>Significant</td>\n",
       "      <td>Rural</td>\n",
       "      <td>Asthma</td>\n",
       "      <td>Depressive disorder</td>\n",
       "      <td>NaN</td>\n",
       "      <td>Seeking therapy</td>\n",
       "      <td>Low</td>\n",
       "      <td>Exercise</td>\n",
       "    </tr>\n",
       "  </tbody>\n",
       "</table>\n",
       "</div>"
      ],
      "text/plain": [
       "                Age  Gender Family History Personal History Current Stressors  \\\n",
       "Participant ID                                                                  \n",
       "1                41    Male            Yes               No              High   \n",
       "2                20  Female            Yes               No               Low   \n",
       "3                32    Male            Yes              Yes              High   \n",
       "4                41  Female            Yes              Yes          Moderate   \n",
       "5                36  Female            Yes               No              High   \n",
       "\n",
       "                           Symptoms  Severity Impact on Life Demographics  \\\n",
       "Participant ID                                                              \n",
       "1               Shortness of breath      Mild           Mild        Urban   \n",
       "2               Shortness of breath      Mild    Significant        Urban   \n",
       "3                     Panic attacks    Severe           Mild        Rural   \n",
       "4               Shortness of breath  Moderate    Significant        Urban   \n",
       "5                        Chest pain    Severe    Significant        Rural   \n",
       "\n",
       "               Medical History  Psychiatric History Substance Use  \\\n",
       "Participant ID                                                      \n",
       "1                     Diabetes     Bipolar disorder       Alcohol   \n",
       "2                       Asthma     Anxiety disorder         Drugs   \n",
       "3                Heart disease     Bipolar disorder         Drugs   \n",
       "4                Heart disease     Anxiety disorder           NaN   \n",
       "5                       Asthma  Depressive disorder           NaN   \n",
       "\n",
       "               Coping Mechanisms Social Support Lifestyle Factors  \n",
       "Participant ID                                                     \n",
       "1                Seeking therapy            Low          Exercise  \n",
       "2                       Exercise           High              Diet  \n",
       "3                     Meditation       Moderate          Exercise  \n",
       "4                       Exercise           High     Sleep quality  \n",
       "5                Seeking therapy            Low          Exercise  "
      ]
     },
     "execution_count": 2,
     "metadata": {},
     "output_type": "execute_result"
    }
   ],
   "source": [
    "test = pd.read_csv('panic_disorder_dataset_testing.csv', index_col='Participant ID')\n",
    "test.drop('Panic Disorder Diagnosis', axis=1, inplace=True)\n",
    "test.head()"
   ]
  },
  {
   "cell_type": "code",
   "execution_count": 3,
   "id": "73e7d6ce",
   "metadata": {},
   "outputs": [
    {
     "data": {
      "text/plain": [
       "{'Age': 34,\n",
       " 'Gender': 'Male',\n",
       " 'Family History': 'Yes',\n",
       " 'Personal History': 'Yes',\n",
       " 'Current Stressors': 'High',\n",
       " 'Symptoms': 'Shortness of breath',\n",
       " 'Severity': 'Severe',\n",
       " 'Impact on Life': 'Mild',\n",
       " 'Demographics': 'Urban',\n",
       " 'Medical History': 'Heart disease',\n",
       " 'Psychiatric History': 'Depressive disorder',\n",
       " 'Substance Use': 'Drugs',\n",
       " 'Coping Mechanisms': 'Meditation',\n",
       " 'Social Support': 'Moderate',\n",
       " 'Lifestyle Factors': 'Sleep quality'}"
      ]
     },
     "execution_count": 3,
     "metadata": {},
     "output_type": "execute_result"
    }
   ],
   "source": [
    "num1 = 6\n",
    "data1 = test.iloc[num1, :].to_dict()\n",
    "data1"
   ]
  },
  {
   "cell_type": "code",
   "execution_count": 4,
   "id": "8eb3e986",
   "metadata": {},
   "outputs": [
    {
     "name": "stdout",
     "output_type": "stream",
     "text": [
      "panic disorder\n"
     ]
    }
   ],
   "source": [
    "req1 = requests.post('http://127.0.0.1:5000/predict', json=data1)\n",
    "print(req1.text)"
   ]
  },
  {
   "cell_type": "code",
   "execution_count": 5,
   "id": "3168ad03",
   "metadata": {},
   "outputs": [
    {
     "data": {
      "text/plain": [
       "{'Age': 18,\n",
       " 'Gender': 'Male',\n",
       " 'Family History': 'Yes',\n",
       " 'Personal History': 'Yes',\n",
       " 'Current Stressors': 'High',\n",
       " 'Symptoms': 'Shortness of breath',\n",
       " 'Severity': 'Mild',\n",
       " 'Impact on Life': 'Mild',\n",
       " 'Demographics': 'Rural',\n",
       " 'Medical History': 'Diabetes',\n",
       " 'Psychiatric History': 'Anxiety disorder',\n",
       " 'Substance Use': nan,\n",
       " 'Coping Mechanisms': 'Exercise',\n",
       " 'Social Support': 'High',\n",
       " 'Lifestyle Factors': 'Diet'}"
      ]
     },
     "execution_count": 5,
     "metadata": {},
     "output_type": "execute_result"
    }
   ],
   "source": [
    "num2 = random.randrange(1, 20001, 1)\n",
    "data2 = test.iloc[num2, :].to_dict()\n",
    "data2"
   ]
  },
  {
   "cell_type": "code",
   "execution_count": 6,
   "id": "f440a4ba",
   "metadata": {},
   "outputs": [
    {
     "name": "stdout",
     "output_type": "stream",
     "text": [
      "no panic disorder\n"
     ]
    }
   ],
   "source": [
    "req2 = requests.post('http://127.0.0.1:5000/predict', json=data2)\n",
    "print(req2.text)"
   ]
  },
  {
   "cell_type": "code",
   "execution_count": 7,
   "id": "05f73555",
   "metadata": {},
   "outputs": [
    {
     "data": {
      "text/plain": [
       "{'Age': 30,\n",
       " 'Gender': 'Male',\n",
       " 'Family History': 'Yes',\n",
       " 'Personal History': 'No',\n",
       " 'Current Stressors': 'Low',\n",
       " 'Symptoms': 'Shortness of breath',\n",
       " 'Severity': 'Severe',\n",
       " 'Impact on Life': 'Moderate',\n",
       " 'Demographics': 'Urban',\n",
       " 'Medical History': nan,\n",
       " 'Psychiatric History': 'Anxiety disorder',\n",
       " 'Substance Use': 'Drugs',\n",
       " 'Coping Mechanisms': 'Exercise',\n",
       " 'Social Support': 'Low',\n",
       " 'Lifestyle Factors': 'Exercise'}"
      ]
     },
     "execution_count": 7,
     "metadata": {},
     "output_type": "execute_result"
    }
   ],
   "source": [
    "num3 = random.randrange(1, 20001, 1)\n",
    "data3 = test.iloc[num3, :].to_dict()\n",
    "data3"
   ]
  },
  {
   "cell_type": "code",
   "execution_count": 8,
   "id": "4efb3057",
   "metadata": {},
   "outputs": [
    {
     "name": "stdout",
     "output_type": "stream",
     "text": [
      "no panic disorder\n"
     ]
    }
   ],
   "source": [
    "req3 = requests.post('http://127.0.0.1:5000/predict', json=data3)\n",
    "print(req3.text)"
   ]
  },
  {
   "cell_type": "code",
   "execution_count": 9,
   "id": "46cca119",
   "metadata": {},
   "outputs": [
    {
     "data": {
      "text/plain": [
       "{'Age': 20,\n",
       " 'Gender': 'Female',\n",
       " 'Family History': 'Yes',\n",
       " 'Personal History': 'No',\n",
       " 'Current Stressors': 'Low',\n",
       " 'Symptoms': 'Shortness of breath',\n",
       " 'Severity': 'Severe',\n",
       " 'Impact on Life': 'Significant',\n",
       " 'Demographics': 'Rural',\n",
       " 'Medical History': nan,\n",
       " 'Psychiatric History': 'Bipolar disorder',\n",
       " 'Substance Use': 'Alcohol',\n",
       " 'Coping Mechanisms': 'Meditation',\n",
       " 'Social Support': 'High',\n",
       " 'Lifestyle Factors': 'Diet'}"
      ]
     },
     "execution_count": 9,
     "metadata": {},
     "output_type": "execute_result"
    }
   ],
   "source": [
    "num4 = random.randrange(1, 20001, 1)\n",
    "data4 = test.iloc[num4, :].to_dict()\n",
    "data4"
   ]
  },
  {
   "cell_type": "code",
   "execution_count": 10,
   "id": "30472c65",
   "metadata": {},
   "outputs": [
    {
     "name": "stdout",
     "output_type": "stream",
     "text": [
      "no panic disorder\n"
     ]
    }
   ],
   "source": [
    "req4 = requests.post('http://127.0.0.1:5000/predict', json=data4)\n",
    "print(req4.text)"
   ]
  },
  {
   "cell_type": "code",
   "execution_count": 11,
   "id": "db69fb94",
   "metadata": {},
   "outputs": [
    {
     "data": {
      "text/plain": [
       "{'Age': 61,\n",
       " 'Gender': 'Male',\n",
       " 'Family History': 'No',\n",
       " 'Personal History': 'No',\n",
       " 'Current Stressors': 'Moderate',\n",
       " 'Symptoms': 'Panic attacks',\n",
       " 'Severity': 'Moderate',\n",
       " 'Impact on Life': 'Significant',\n",
       " 'Demographics': 'Rural',\n",
       " 'Medical History': 'Asthma',\n",
       " 'Psychiatric History': 'Bipolar disorder',\n",
       " 'Substance Use': 'Alcohol',\n",
       " 'Coping Mechanisms': 'Socializing',\n",
       " 'Social Support': 'High',\n",
       " 'Lifestyle Factors': 'Exercise'}"
      ]
     },
     "execution_count": 11,
     "metadata": {},
     "output_type": "execute_result"
    }
   ],
   "source": [
    "num5 = random.randrange(1, 20001, 1)\n",
    "data5 = test.iloc[num5, :].to_dict()\n",
    "data5"
   ]
  },
  {
   "cell_type": "code",
   "execution_count": 12,
   "id": "86cf525c",
   "metadata": {},
   "outputs": [
    {
     "name": "stdout",
     "output_type": "stream",
     "text": [
      "no panic disorder\n"
     ]
    }
   ],
   "source": [
    "req5 = requests.post('http://127.0.0.1:5000/predict', json=data5)\n",
    "print(req5.text)"
   ]
  }
 ],
 "metadata": {
  "kernelspec": {
   "display_name": "Python 3 (ipykernel)",
   "language": "python",
   "name": "python3"
  },
  "language_info": {
   "codemirror_mode": {
    "name": "ipython",
    "version": 3
   },
   "file_extension": ".py",
   "mimetype": "text/x-python",
   "name": "python",
   "nbconvert_exporter": "python",
   "pygments_lexer": "ipython3",
   "version": "3.10.12"
  }
 },
 "nbformat": 4,
 "nbformat_minor": 5
}
