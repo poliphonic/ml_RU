{
 "cells": [
  {
   "cell_type": "code",
   "execution_count": 1,
   "id": "5adae5e1",
   "metadata": {},
   "outputs": [],
   "source": [
    "from flask import Flask, request, jsonify\n",
    "\n",
    "import pandas as pd\n",
    "import dill"
   ]
  },
  {
   "cell_type": "code",
   "execution_count": 2,
   "id": "3816507d",
   "metadata": {},
   "outputs": [
    {
     "name": "stdout",
     "output_type": "stream",
     "text": [
      " * Serving Flask app '__main__'\n",
      " * Debug mode: off\n"
     ]
    },
    {
     "name": "stderr",
     "output_type": "stream",
     "text": [
      "WARNING: This is a development server. Do not use it in a production deployment. Use a production WSGI server instead.\n",
      " * Running on http://127.0.0.1:5000\n",
      "Press CTRL+C to quit\n",
      "127.0.0.1 - - [21/Sep/2023 22:13:49] \"POST /predict HTTP/1.1\" 200 -\n",
      "127.0.0.1 - - [21/Sep/2023 22:13:49] \"POST /predict HTTP/1.1\" 200 -\n",
      "127.0.0.1 - - [21/Sep/2023 22:13:49] \"POST /predict HTTP/1.1\" 200 -\n",
      "127.0.0.1 - - [21/Sep/2023 22:13:49] \"POST /predict HTTP/1.1\" 200 -\n",
      "127.0.0.1 - - [21/Sep/2023 22:13:49] \"POST /predict HTTP/1.1\" 200 -\n"
     ]
    }
   ],
   "source": [
    "app = Flask(__name__)\n",
    "\n",
    "@app.route('/', methods=['GET'])\n",
    "def general():\n",
    "    return 'Welcome to prediction process'\n",
    "\n",
    "\n",
    "@app.route('/predict', methods=['POST','GET'])\n",
    "def predict():\n",
    "    req = [request.get_json()]\n",
    "    df = pd.DataFrame(req)\n",
    "    prediction = pipeline.predict(df)\n",
    "    result = 'panic disorder' if prediction[0] else 'no panic disorder'\n",
    "    return result\n",
    "\n",
    "if __name__ == '__main__':\n",
    "    with open('svc_clf.dill', 'rb') as model:\n",
    "        pipeline = dill.load(model)\n",
    "    app.run()"
   ]
  }
 ],
 "metadata": {
  "kernelspec": {
   "display_name": "Python 3 (ipykernel)",
   "language": "python",
   "name": "python3"
  },
  "language_info": {
   "codemirror_mode": {
    "name": "ipython",
    "version": 3
   },
   "file_extension": ".py",
   "mimetype": "text/x-python",
   "name": "python",
   "nbconvert_exporter": "python",
   "pygments_lexer": "ipython3",
   "version": "3.10.12"
  }
 },
 "nbformat": 4,
 "nbformat_minor": 5
}
