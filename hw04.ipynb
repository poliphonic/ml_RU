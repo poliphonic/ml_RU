{
 "cells": [
  {
   "cell_type": "markdown",
   "id": "0c558cd2",
   "metadata": {},
   "source": [
    "## 01"
   ]
  },
  {
   "cell_type": "code",
   "execution_count": 1,
   "id": "9f0c5b5f",
   "metadata": {},
   "outputs": [
    {
     "name": "stdout",
     "output_type": "stream",
     "text": [
      "Downloading customer-retention.zip to /home/poli/Documents/data_science/ml/04\n",
      "100%|█████████████████████████████████████████| 433k/433k [00:00<00:00, 907kB/s]\n",
      "100%|█████████████████████████████████████████| 433k/433k [00:00<00:00, 905kB/s]\n"
     ]
    }
   ],
   "source": [
    "!kaggle datasets download davinwijaya/customer-retention"
   ]
  },
  {
   "cell_type": "code",
   "execution_count": 2,
   "id": "1634738a",
   "metadata": {},
   "outputs": [
    {
     "name": "stdout",
     "output_type": "stream",
     "text": [
      "Archive:  customer-retention.zip\r\n",
      "  inflating: data.csv                \r\n"
     ]
    }
   ],
   "source": [
    "!unzip customer-retention.zip"
   ]
  },
  {
   "cell_type": "markdown",
   "id": "cb6f2d2c",
   "metadata": {},
   "source": [
    "## 02"
   ]
  },
  {
   "cell_type": "code",
   "execution_count": 3,
   "id": "4e3a85aa",
   "metadata": {},
   "outputs": [],
   "source": [
    "import pandas as pd\n",
    "import matplotlib.pyplot as plt\n",
    "%matplotlib inline\n",
    "\n",
    "from sklearn.model_selection import train_test_split\n",
    "from sklift.metrics import uplift_at_k\n",
    "from sklift.models import ClassTransformation, SoloModel, TwoModels\n",
    "from sklift.viz import plot_uplift_curve, plot_uplift_preds\n",
    "\n",
    "from catboost import CatBoostClassifier"
   ]
  },
  {
   "cell_type": "code",
   "execution_count": 4,
   "id": "01ba2165",
   "metadata": {},
   "outputs": [
    {
     "data": {
      "text/html": [
       "<div>\n",
       "<style scoped>\n",
       "    .dataframe tbody tr th:only-of-type {\n",
       "        vertical-align: middle;\n",
       "    }\n",
       "\n",
       "    .dataframe tbody tr th {\n",
       "        vertical-align: top;\n",
       "    }\n",
       "\n",
       "    .dataframe thead th {\n",
       "        text-align: right;\n",
       "    }\n",
       "</style>\n",
       "<table border=\"1\" class=\"dataframe\">\n",
       "  <thead>\n",
       "    <tr style=\"text-align: right;\">\n",
       "      <th></th>\n",
       "      <th>recency</th>\n",
       "      <th>history</th>\n",
       "      <th>used_discount</th>\n",
       "      <th>used_bogo</th>\n",
       "      <th>zip_code</th>\n",
       "      <th>is_referral</th>\n",
       "      <th>channel</th>\n",
       "      <th>offer</th>\n",
       "      <th>conversion</th>\n",
       "    </tr>\n",
       "  </thead>\n",
       "  <tbody>\n",
       "    <tr>\n",
       "      <th>0</th>\n",
       "      <td>10</td>\n",
       "      <td>142.44</td>\n",
       "      <td>1</td>\n",
       "      <td>0</td>\n",
       "      <td>Surburban</td>\n",
       "      <td>0</td>\n",
       "      <td>Phone</td>\n",
       "      <td>Buy One Get One</td>\n",
       "      <td>0</td>\n",
       "    </tr>\n",
       "    <tr>\n",
       "      <th>1</th>\n",
       "      <td>6</td>\n",
       "      <td>329.08</td>\n",
       "      <td>1</td>\n",
       "      <td>1</td>\n",
       "      <td>Rural</td>\n",
       "      <td>1</td>\n",
       "      <td>Web</td>\n",
       "      <td>No Offer</td>\n",
       "      <td>0</td>\n",
       "    </tr>\n",
       "    <tr>\n",
       "      <th>2</th>\n",
       "      <td>7</td>\n",
       "      <td>180.65</td>\n",
       "      <td>0</td>\n",
       "      <td>1</td>\n",
       "      <td>Surburban</td>\n",
       "      <td>1</td>\n",
       "      <td>Web</td>\n",
       "      <td>Buy One Get One</td>\n",
       "      <td>0</td>\n",
       "    </tr>\n",
       "    <tr>\n",
       "      <th>3</th>\n",
       "      <td>9</td>\n",
       "      <td>675.83</td>\n",
       "      <td>1</td>\n",
       "      <td>0</td>\n",
       "      <td>Rural</td>\n",
       "      <td>1</td>\n",
       "      <td>Web</td>\n",
       "      <td>Discount</td>\n",
       "      <td>0</td>\n",
       "    </tr>\n",
       "    <tr>\n",
       "      <th>4</th>\n",
       "      <td>2</td>\n",
       "      <td>45.34</td>\n",
       "      <td>1</td>\n",
       "      <td>0</td>\n",
       "      <td>Urban</td>\n",
       "      <td>0</td>\n",
       "      <td>Web</td>\n",
       "      <td>Buy One Get One</td>\n",
       "      <td>0</td>\n",
       "    </tr>\n",
       "  </tbody>\n",
       "</table>\n",
       "</div>"
      ],
      "text/plain": [
       "   recency  history  used_discount  used_bogo   zip_code  is_referral channel  \\\n",
       "0       10   142.44              1          0  Surburban            0   Phone   \n",
       "1        6   329.08              1          1      Rural            1     Web   \n",
       "2        7   180.65              0          1  Surburban            1     Web   \n",
       "3        9   675.83              1          0      Rural            1     Web   \n",
       "4        2    45.34              1          0      Urban            0     Web   \n",
       "\n",
       "             offer  conversion  \n",
       "0  Buy One Get One           0  \n",
       "1         No Offer           0  \n",
       "2  Buy One Get One           0  \n",
       "3         Discount           0  \n",
       "4  Buy One Get One           0  "
      ]
     },
     "execution_count": 4,
     "metadata": {},
     "output_type": "execute_result"
    }
   ],
   "source": [
    "df = pd.read_csv('data.csv')\n",
    "df.head()"
   ]
  },
  {
   "cell_type": "code",
   "execution_count": 5,
   "id": "94ca2e99",
   "metadata": {},
   "outputs": [
    {
     "data": {
      "text/html": [
       "<div>\n",
       "<style scoped>\n",
       "    .dataframe tbody tr th:only-of-type {\n",
       "        vertical-align: middle;\n",
       "    }\n",
       "\n",
       "    .dataframe tbody tr th {\n",
       "        vertical-align: top;\n",
       "    }\n",
       "\n",
       "    .dataframe thead th {\n",
       "        text-align: right;\n",
       "    }\n",
       "</style>\n",
       "<table border=\"1\" class=\"dataframe\">\n",
       "  <thead>\n",
       "    <tr style=\"text-align: right;\">\n",
       "      <th></th>\n",
       "      <th>recency</th>\n",
       "      <th>history</th>\n",
       "      <th>used_discount</th>\n",
       "      <th>used_bogo</th>\n",
       "      <th>zip_code</th>\n",
       "      <th>is_referral</th>\n",
       "      <th>channel</th>\n",
       "      <th>treatment</th>\n",
       "      <th>target</th>\n",
       "    </tr>\n",
       "  </thead>\n",
       "  <tbody>\n",
       "    <tr>\n",
       "      <th>0</th>\n",
       "      <td>10</td>\n",
       "      <td>142.44</td>\n",
       "      <td>1</td>\n",
       "      <td>0</td>\n",
       "      <td>Surburban</td>\n",
       "      <td>0</td>\n",
       "      <td>Phone</td>\n",
       "      <td>Buy One Get One</td>\n",
       "      <td>0</td>\n",
       "    </tr>\n",
       "    <tr>\n",
       "      <th>1</th>\n",
       "      <td>6</td>\n",
       "      <td>329.08</td>\n",
       "      <td>1</td>\n",
       "      <td>1</td>\n",
       "      <td>Rural</td>\n",
       "      <td>1</td>\n",
       "      <td>Web</td>\n",
       "      <td>No Offer</td>\n",
       "      <td>0</td>\n",
       "    </tr>\n",
       "    <tr>\n",
       "      <th>2</th>\n",
       "      <td>7</td>\n",
       "      <td>180.65</td>\n",
       "      <td>0</td>\n",
       "      <td>1</td>\n",
       "      <td>Surburban</td>\n",
       "      <td>1</td>\n",
       "      <td>Web</td>\n",
       "      <td>Buy One Get One</td>\n",
       "      <td>0</td>\n",
       "    </tr>\n",
       "    <tr>\n",
       "      <th>3</th>\n",
       "      <td>9</td>\n",
       "      <td>675.83</td>\n",
       "      <td>1</td>\n",
       "      <td>0</td>\n",
       "      <td>Rural</td>\n",
       "      <td>1</td>\n",
       "      <td>Web</td>\n",
       "      <td>Discount</td>\n",
       "      <td>0</td>\n",
       "    </tr>\n",
       "    <tr>\n",
       "      <th>4</th>\n",
       "      <td>2</td>\n",
       "      <td>45.34</td>\n",
       "      <td>1</td>\n",
       "      <td>0</td>\n",
       "      <td>Urban</td>\n",
       "      <td>0</td>\n",
       "      <td>Web</td>\n",
       "      <td>Buy One Get One</td>\n",
       "      <td>0</td>\n",
       "    </tr>\n",
       "  </tbody>\n",
       "</table>\n",
       "</div>"
      ],
      "text/plain": [
       "   recency  history  used_discount  used_bogo   zip_code  is_referral channel  \\\n",
       "0       10   142.44              1          0  Surburban            0   Phone   \n",
       "1        6   329.08              1          1      Rural            1     Web   \n",
       "2        7   180.65              0          1  Surburban            1     Web   \n",
       "3        9   675.83              1          0      Rural            1     Web   \n",
       "4        2    45.34              1          0      Urban            0     Web   \n",
       "\n",
       "         treatment  target  \n",
       "0  Buy One Get One       0  \n",
       "1         No Offer       0  \n",
       "2  Buy One Get One       0  \n",
       "3         Discount       0  \n",
       "4  Buy One Get One       0  "
      ]
     },
     "execution_count": 5,
     "metadata": {},
     "output_type": "execute_result"
    }
   ],
   "source": [
    "df = df.rename(columns={'offer': 'treatment', 'conversion': 'target'})\n",
    "df.head()"
   ]
  },
  {
   "cell_type": "code",
   "execution_count": 6,
   "id": "3152c0f2",
   "metadata": {},
   "outputs": [
    {
     "data": {
      "text/plain": [
       "treatment\n",
       "Buy One Get One    21387\n",
       "Discount           21307\n",
       "No Offer           21306\n",
       "Name: count, dtype: int64"
      ]
     },
     "execution_count": 6,
     "metadata": {},
     "output_type": "execute_result"
    }
   ],
   "source": [
    "df['treatment'].value_counts()"
   ]
  },
  {
   "cell_type": "code",
   "execution_count": 7,
   "id": "92a7080f",
   "metadata": {},
   "outputs": [
    {
     "data": {
      "text/html": [
       "<div>\n",
       "<style scoped>\n",
       "    .dataframe tbody tr th:only-of-type {\n",
       "        vertical-align: middle;\n",
       "    }\n",
       "\n",
       "    .dataframe tbody tr th {\n",
       "        vertical-align: top;\n",
       "    }\n",
       "\n",
       "    .dataframe thead th {\n",
       "        text-align: right;\n",
       "    }\n",
       "</style>\n",
       "<table border=\"1\" class=\"dataframe\">\n",
       "  <thead>\n",
       "    <tr style=\"text-align: right;\">\n",
       "      <th></th>\n",
       "      <th>recency</th>\n",
       "      <th>history</th>\n",
       "      <th>used_discount</th>\n",
       "      <th>used_bogo</th>\n",
       "      <th>zip_code</th>\n",
       "      <th>is_referral</th>\n",
       "      <th>channel</th>\n",
       "      <th>treatment</th>\n",
       "      <th>target</th>\n",
       "    </tr>\n",
       "  </thead>\n",
       "  <tbody>\n",
       "    <tr>\n",
       "      <th>0</th>\n",
       "      <td>10</td>\n",
       "      <td>142.44</td>\n",
       "      <td>1</td>\n",
       "      <td>0</td>\n",
       "      <td>Surburban</td>\n",
       "      <td>0</td>\n",
       "      <td>Phone</td>\n",
       "      <td>1</td>\n",
       "      <td>0</td>\n",
       "    </tr>\n",
       "    <tr>\n",
       "      <th>1</th>\n",
       "      <td>6</td>\n",
       "      <td>329.08</td>\n",
       "      <td>1</td>\n",
       "      <td>1</td>\n",
       "      <td>Rural</td>\n",
       "      <td>1</td>\n",
       "      <td>Web</td>\n",
       "      <td>0</td>\n",
       "      <td>0</td>\n",
       "    </tr>\n",
       "    <tr>\n",
       "      <th>2</th>\n",
       "      <td>7</td>\n",
       "      <td>180.65</td>\n",
       "      <td>0</td>\n",
       "      <td>1</td>\n",
       "      <td>Surburban</td>\n",
       "      <td>1</td>\n",
       "      <td>Web</td>\n",
       "      <td>1</td>\n",
       "      <td>0</td>\n",
       "    </tr>\n",
       "    <tr>\n",
       "      <th>3</th>\n",
       "      <td>9</td>\n",
       "      <td>675.83</td>\n",
       "      <td>1</td>\n",
       "      <td>0</td>\n",
       "      <td>Rural</td>\n",
       "      <td>1</td>\n",
       "      <td>Web</td>\n",
       "      <td>1</td>\n",
       "      <td>0</td>\n",
       "    </tr>\n",
       "    <tr>\n",
       "      <th>4</th>\n",
       "      <td>2</td>\n",
       "      <td>45.34</td>\n",
       "      <td>1</td>\n",
       "      <td>0</td>\n",
       "      <td>Urban</td>\n",
       "      <td>0</td>\n",
       "      <td>Web</td>\n",
       "      <td>1</td>\n",
       "      <td>0</td>\n",
       "    </tr>\n",
       "  </tbody>\n",
       "</table>\n",
       "</div>"
      ],
      "text/plain": [
       "   recency  history  used_discount  used_bogo   zip_code  is_referral channel  \\\n",
       "0       10   142.44              1          0  Surburban            0   Phone   \n",
       "1        6   329.08              1          1      Rural            1     Web   \n",
       "2        7   180.65              0          1  Surburban            1     Web   \n",
       "3        9   675.83              1          0      Rural            1     Web   \n",
       "4        2    45.34              1          0      Urban            0     Web   \n",
       "\n",
       "   treatment  target  \n",
       "0          1       0  \n",
       "1          0       0  \n",
       "2          1       0  \n",
       "3          1       0  \n",
       "4          1       0  "
      ]
     },
     "execution_count": 7,
     "metadata": {},
     "output_type": "execute_result"
    }
   ],
   "source": [
    "df['treatment'] = df['treatment'].replace(['Buy One Get One', 'Discount', 'No Offer'], [1, 1, 0])\n",
    "df.head()"
   ]
  },
  {
   "cell_type": "markdown",
   "id": "497ddcc4",
   "metadata": {},
   "source": [
    "## 03"
   ]
  },
  {
   "cell_type": "code",
   "execution_count": 8,
   "id": "525046bb",
   "metadata": {},
   "outputs": [],
   "source": [
    "x_train, x_test, y_train, y_test, treat_train, treat_test = train_test_split(\n",
    "    df.drop(columns=['target', 'treatment']), df['target'], df['treatment'], random_state=42)"
   ]
  },
  {
   "cell_type": "code",
   "execution_count": 9,
   "id": "ce3fac5f",
   "metadata": {},
   "outputs": [
    {
     "data": {
      "text/html": [
       "<div>\n",
       "<style scoped>\n",
       "    .dataframe tbody tr th:only-of-type {\n",
       "        vertical-align: middle;\n",
       "    }\n",
       "\n",
       "    .dataframe tbody tr th {\n",
       "        vertical-align: top;\n",
       "    }\n",
       "\n",
       "    .dataframe thead th {\n",
       "        text-align: right;\n",
       "    }\n",
       "</style>\n",
       "<table border=\"1\" class=\"dataframe\">\n",
       "  <thead>\n",
       "    <tr style=\"text-align: right;\">\n",
       "      <th></th>\n",
       "      <th>recency</th>\n",
       "      <th>history</th>\n",
       "      <th>used_discount</th>\n",
       "      <th>used_bogo</th>\n",
       "      <th>zip_code</th>\n",
       "      <th>is_referral</th>\n",
       "      <th>channel</th>\n",
       "    </tr>\n",
       "  </thead>\n",
       "  <tbody>\n",
       "    <tr>\n",
       "      <th>7517</th>\n",
       "      <td>6</td>\n",
       "      <td>92.45</td>\n",
       "      <td>0</td>\n",
       "      <td>1</td>\n",
       "      <td>Urban</td>\n",
       "      <td>0</td>\n",
       "      <td>Web</td>\n",
       "    </tr>\n",
       "    <tr>\n",
       "      <th>5343</th>\n",
       "      <td>1</td>\n",
       "      <td>796.97</td>\n",
       "      <td>0</td>\n",
       "      <td>1</td>\n",
       "      <td>Rural</td>\n",
       "      <td>1</td>\n",
       "      <td>Multichannel</td>\n",
       "    </tr>\n",
       "    <tr>\n",
       "      <th>35537</th>\n",
       "      <td>7</td>\n",
       "      <td>390.14</td>\n",
       "      <td>0</td>\n",
       "      <td>1</td>\n",
       "      <td>Urban</td>\n",
       "      <td>1</td>\n",
       "      <td>Phone</td>\n",
       "    </tr>\n",
       "    <tr>\n",
       "      <th>63983</th>\n",
       "      <td>2</td>\n",
       "      <td>83.03</td>\n",
       "      <td>0</td>\n",
       "      <td>1</td>\n",
       "      <td>Urban</td>\n",
       "      <td>0</td>\n",
       "      <td>Phone</td>\n",
       "    </tr>\n",
       "    <tr>\n",
       "      <th>45287</th>\n",
       "      <td>10</td>\n",
       "      <td>734.90</td>\n",
       "      <td>1</td>\n",
       "      <td>0</td>\n",
       "      <td>Rural</td>\n",
       "      <td>1</td>\n",
       "      <td>Multichannel</td>\n",
       "    </tr>\n",
       "  </tbody>\n",
       "</table>\n",
       "</div>"
      ],
      "text/plain": [
       "       recency  history  used_discount  used_bogo zip_code  is_referral  \\\n",
       "7517         6    92.45              0          1    Urban            0   \n",
       "5343         1   796.97              0          1    Rural            1   \n",
       "35537        7   390.14              0          1    Urban            1   \n",
       "63983        2    83.03              0          1    Urban            0   \n",
       "45287       10   734.90              1          0    Rural            1   \n",
       "\n",
       "            channel  \n",
       "7517            Web  \n",
       "5343   Multichannel  \n",
       "35537         Phone  \n",
       "63983         Phone  \n",
       "45287  Multichannel  "
      ]
     },
     "execution_count": 9,
     "metadata": {},
     "output_type": "execute_result"
    }
   ],
   "source": [
    "x_train.head()"
   ]
  },
  {
   "cell_type": "code",
   "execution_count": 10,
   "id": "10a879fe",
   "metadata": {},
   "outputs": [
    {
     "data": {
      "text/plain": [
       "7517     0\n",
       "5343     0\n",
       "35537    0\n",
       "63983    0\n",
       "45287    1\n",
       "Name: target, dtype: int64"
      ]
     },
     "execution_count": 10,
     "metadata": {},
     "output_type": "execute_result"
    }
   ],
   "source": [
    "y_train.head()"
   ]
  },
  {
   "cell_type": "code",
   "execution_count": 11,
   "id": "c6bb4b51",
   "metadata": {},
   "outputs": [
    {
     "data": {
      "text/plain": [
       "7517     0\n",
       "5343     1\n",
       "35537    1\n",
       "63983    0\n",
       "45287    1\n",
       "Name: treatment, dtype: int64"
      ]
     },
     "execution_count": 11,
     "metadata": {},
     "output_type": "execute_result"
    }
   ],
   "source": [
    "treat_train.head()"
   ]
  },
  {
   "cell_type": "markdown",
   "id": "3960792a",
   "metadata": {},
   "source": [
    "## 04"
   ]
  },
  {
   "cell_type": "code",
   "execution_count": 12,
   "id": "13b34ae0",
   "metadata": {},
   "outputs": [
    {
     "name": "stdout",
     "output_type": "stream",
     "text": [
      "<class 'pandas.core.frame.DataFrame'>\n",
      "Index: 48000 entries, 7517 to 56422\n",
      "Data columns (total 7 columns):\n",
      " #   Column         Non-Null Count  Dtype  \n",
      "---  ------         --------------  -----  \n",
      " 0   recency        48000 non-null  int64  \n",
      " 1   history        48000 non-null  float64\n",
      " 2   used_discount  48000 non-null  int64  \n",
      " 3   used_bogo      48000 non-null  int64  \n",
      " 4   zip_code       48000 non-null  object \n",
      " 5   is_referral    48000 non-null  int64  \n",
      " 6   channel        48000 non-null  object \n",
      "dtypes: float64(1), int64(4), object(2)\n",
      "memory usage: 2.9+ MB\n"
     ]
    }
   ],
   "source": [
    "x_train.info()"
   ]
  },
  {
   "cell_type": "code",
   "execution_count": 13,
   "id": "231f04d3",
   "metadata": {},
   "outputs": [
    {
     "data": {
      "text/plain": [
       "recency\n",
       "1     6731\n",
       "10    5658\n",
       "2     5640\n",
       "9     4833\n",
       "3     4376\n",
       "4     3791\n",
       "6     3451\n",
       "5     3424\n",
       "7     3091\n",
       "11    2638\n",
       "8     2606\n",
       "12    1761\n",
       "Name: count, dtype: int64"
      ]
     },
     "execution_count": 13,
     "metadata": {},
     "output_type": "execute_result"
    }
   ],
   "source": [
    "x_train['recency'].value_counts()"
   ]
  },
  {
   "cell_type": "code",
   "execution_count": 14,
   "id": "1a731bed",
   "metadata": {},
   "outputs": [
    {
     "data": {
      "text/plain": [
       "28742"
      ]
     },
     "execution_count": 14,
     "metadata": {},
     "output_type": "execute_result"
    }
   ],
   "source": [
    "x_train['history'].nunique()"
   ]
  },
  {
   "cell_type": "code",
   "execution_count": 15,
   "id": "761af9ab",
   "metadata": {},
   "outputs": [
    {
     "data": {
      "image/png": "[encoded data removed]",
      "text/plain": [
       "<Figure size 1600x800 with 1 Axes>"
      ]
     },
     "metadata": {},
     "output_type": "display_data"
    }
   ],
   "source": [
    "plt.figure(figsize=(16, 8))\n",
    "\n",
    "x_train['history'].hist(bins=10)\n",
    "plt.xlabel('Count')\n",
    "plt.ylabel('Value')\n",
    "\n",
    "plt.title('History distribution')\n",
    "plt.show()"
   ]
  },
  {
   "cell_type": "code",
   "execution_count": 16,
   "id": "197dbb94",
   "metadata": {},
   "outputs": [
    {
     "data": {
      "text/plain": [
       "used_discount\n",
       "1    26425\n",
       "0    21575\n",
       "Name: count, dtype: int64"
      ]
     },
     "execution_count": 16,
     "metadata": {},
     "output_type": "execute_result"
    }
   ],
   "source": [
    "x_train['used_discount'].value_counts()"
   ]
  },
  {
   "cell_type": "code",
   "execution_count": 17,
   "id": "6c3d1fd1",
   "metadata": {},
   "outputs": [
    {
     "data": {
      "text/plain": [
       "used_bogo\n",
       "1    26433\n",
       "0    21567\n",
       "Name: count, dtype: int64"
      ]
     },
     "execution_count": 17,
     "metadata": {},
     "output_type": "execute_result"
    }
   ],
   "source": [
    "x_train['used_bogo'].value_counts()"
   ]
  },
  {
   "cell_type": "code",
   "execution_count": 18,
   "id": "443e8c9a",
   "metadata": {},
   "outputs": [
    {
     "data": {
      "text/plain": [
       "is_referral\n",
       "1    24047\n",
       "0    23953\n",
       "Name: count, dtype: int64"
      ]
     },
     "execution_count": 18,
     "metadata": {},
     "output_type": "execute_result"
    }
   ],
   "source": [
    "x_train['is_referral'].value_counts()"
   ]
  },
  {
   "cell_type": "code",
   "execution_count": 19,
   "id": "30ba19ef",
   "metadata": {},
   "outputs": [
    {
     "data": {
      "text/plain": [
       "zip_code\n",
       "Surburban    21680\n",
       "Urban        19149\n",
       "Rural         7171\n",
       "Name: count, dtype: int64"
      ]
     },
     "execution_count": 19,
     "metadata": {},
     "output_type": "execute_result"
    }
   ],
   "source": [
    "x_train['zip_code'].value_counts()"
   ]
  },
  {
   "cell_type": "code",
   "execution_count": 20,
   "id": "f679f230",
   "metadata": {},
   "outputs": [],
   "source": [
    "x_train['zip_code'] = x_train['zip_code'].replace(['Urban', 'Surburban', 'Rural'], [0, 1, 2])\n",
    "x_test['zip_code'] = x_test['zip_code'].replace(['Urban', 'Surburban', 'Rural'], [0, 1, 2])"
   ]
  },
  {
   "cell_type": "code",
   "execution_count": 21,
   "id": "89c29e75",
   "metadata": {},
   "outputs": [
    {
     "data": {
      "text/plain": [
       "is_referral\n",
       "1    24047\n",
       "0    23953\n",
       "Name: count, dtype: int64"
      ]
     },
     "execution_count": 21,
     "metadata": {},
     "output_type": "execute_result"
    }
   ],
   "source": [
    "x_train['is_referral'].value_counts()"
   ]
  },
  {
   "cell_type": "code",
   "execution_count": 22,
   "id": "726b3b4f",
   "metadata": {},
   "outputs": [
    {
     "data": {
      "text/plain": [
       "channel\n",
       "Web             21158\n",
       "Phone           21046\n",
       "Multichannel     5796\n",
       "Name: count, dtype: int64"
      ]
     },
     "execution_count": 22,
     "metadata": {},
     "output_type": "execute_result"
    }
   ],
   "source": [
    "x_train['channel'].value_counts()"
   ]
  },
  {
   "cell_type": "code",
   "execution_count": 23,
   "id": "b74119b2",
   "metadata": {},
   "outputs": [],
   "source": [
    "x_train['channel'] = x_train['channel'].replace(['Web', 'Phone', 'Multichannel'], [0, 1, 2])\n",
    "x_test['channel'] = x_test['channel'].replace(['Web', 'Phone', 'Multichannel'], [0, 1, 2])"
   ]
  },
  {
   "cell_type": "code",
   "execution_count": 24,
   "id": "463d3df8",
   "metadata": {},
   "outputs": [
    {
     "data": {
      "text/html": [
       "<div>\n",
       "<style scoped>\n",
       "    .dataframe tbody tr th:only-of-type {\n",
       "        vertical-align: middle;\n",
       "    }\n",
       "\n",
       "    .dataframe tbody tr th {\n",
       "        vertical-align: top;\n",
       "    }\n",
       "\n",
       "    .dataframe thead th {\n",
       "        text-align: right;\n",
       "    }\n",
       "</style>\n",
       "<table border=\"1\" class=\"dataframe\">\n",
       "  <thead>\n",
       "    <tr style=\"text-align: right;\">\n",
       "      <th></th>\n",
       "      <th>recency</th>\n",
       "      <th>history</th>\n",
       "      <th>used_discount</th>\n",
       "      <th>used_bogo</th>\n",
       "      <th>zip_code</th>\n",
       "      <th>is_referral</th>\n",
       "      <th>channel</th>\n",
       "    </tr>\n",
       "  </thead>\n",
       "  <tbody>\n",
       "    <tr>\n",
       "      <th>7517</th>\n",
       "      <td>6</td>\n",
       "      <td>92.45</td>\n",
       "      <td>0</td>\n",
       "      <td>1</td>\n",
       "      <td>0</td>\n",
       "      <td>0</td>\n",
       "      <td>0</td>\n",
       "    </tr>\n",
       "    <tr>\n",
       "      <th>5343</th>\n",
       "      <td>1</td>\n",
       "      <td>796.97</td>\n",
       "      <td>0</td>\n",
       "      <td>1</td>\n",
       "      <td>2</td>\n",
       "      <td>1</td>\n",
       "      <td>2</td>\n",
       "    </tr>\n",
       "    <tr>\n",
       "      <th>35537</th>\n",
       "      <td>7</td>\n",
       "      <td>390.14</td>\n",
       "      <td>0</td>\n",
       "      <td>1</td>\n",
       "      <td>0</td>\n",
       "      <td>1</td>\n",
       "      <td>1</td>\n",
       "    </tr>\n",
       "    <tr>\n",
       "      <th>63983</th>\n",
       "      <td>2</td>\n",
       "      <td>83.03</td>\n",
       "      <td>0</td>\n",
       "      <td>1</td>\n",
       "      <td>0</td>\n",
       "      <td>0</td>\n",
       "      <td>1</td>\n",
       "    </tr>\n",
       "    <tr>\n",
       "      <th>45287</th>\n",
       "      <td>10</td>\n",
       "      <td>734.90</td>\n",
       "      <td>1</td>\n",
       "      <td>0</td>\n",
       "      <td>2</td>\n",
       "      <td>1</td>\n",
       "      <td>2</td>\n",
       "    </tr>\n",
       "    <tr>\n",
       "      <th>...</th>\n",
       "      <td>...</td>\n",
       "      <td>...</td>\n",
       "      <td>...</td>\n",
       "      <td>...</td>\n",
       "      <td>...</td>\n",
       "      <td>...</td>\n",
       "      <td>...</td>\n",
       "    </tr>\n",
       "    <tr>\n",
       "      <th>62570</th>\n",
       "      <td>3</td>\n",
       "      <td>276.21</td>\n",
       "      <td>0</td>\n",
       "      <td>1</td>\n",
       "      <td>0</td>\n",
       "      <td>0</td>\n",
       "      <td>1</td>\n",
       "    </tr>\n",
       "    <tr>\n",
       "      <th>38158</th>\n",
       "      <td>4</td>\n",
       "      <td>43.49</td>\n",
       "      <td>0</td>\n",
       "      <td>1</td>\n",
       "      <td>0</td>\n",
       "      <td>0</td>\n",
       "      <td>1</td>\n",
       "    </tr>\n",
       "    <tr>\n",
       "      <th>860</th>\n",
       "      <td>8</td>\n",
       "      <td>492.53</td>\n",
       "      <td>1</td>\n",
       "      <td>1</td>\n",
       "      <td>2</td>\n",
       "      <td>1</td>\n",
       "      <td>1</td>\n",
       "    </tr>\n",
       "    <tr>\n",
       "      <th>15795</th>\n",
       "      <td>5</td>\n",
       "      <td>72.28</td>\n",
       "      <td>1</td>\n",
       "      <td>0</td>\n",
       "      <td>0</td>\n",
       "      <td>1</td>\n",
       "      <td>0</td>\n",
       "    </tr>\n",
       "    <tr>\n",
       "      <th>56422</th>\n",
       "      <td>3</td>\n",
       "      <td>787.51</td>\n",
       "      <td>1</td>\n",
       "      <td>1</td>\n",
       "      <td>0</td>\n",
       "      <td>1</td>\n",
       "      <td>2</td>\n",
       "    </tr>\n",
       "  </tbody>\n",
       "</table>\n",
       "<p>48000 rows × 7 columns</p>\n",
       "</div>"
      ],
      "text/plain": [
       "       recency  history  used_discount  used_bogo  zip_code  is_referral  \\\n",
       "7517         6    92.45              0          1         0            0   \n",
       "5343         1   796.97              0          1         2            1   \n",
       "35537        7   390.14              0          1         0            1   \n",
       "63983        2    83.03              0          1         0            0   \n",
       "45287       10   734.90              1          0         2            1   \n",
       "...        ...      ...            ...        ...       ...          ...   \n",
       "62570        3   276.21              0          1         0            0   \n",
       "38158        4    43.49              0          1         0            0   \n",
       "860          8   492.53              1          1         2            1   \n",
       "15795        5    72.28              1          0         0            1   \n",
       "56422        3   787.51              1          1         0            1   \n",
       "\n",
       "       channel  \n",
       "7517         0  \n",
       "5343         2  \n",
       "35537        1  \n",
       "63983        1  \n",
       "45287        2  \n",
       "...        ...  \n",
       "62570        1  \n",
       "38158        1  \n",
       "860          1  \n",
       "15795        0  \n",
       "56422        2  \n",
       "\n",
       "[48000 rows x 7 columns]"
      ]
     },
     "execution_count": 24,
     "metadata": {},
     "output_type": "execute_result"
    }
   ],
   "source": [
    "x_train"
   ]
  },
  {
   "cell_type": "code",
   "execution_count": 25,
   "id": "81f1dd6f",
   "metadata": {},
   "outputs": [
    {
     "name": "stdout",
     "output_type": "stream",
     "text": [
      "<class 'pandas.core.frame.DataFrame'>\n",
      "Index: 16000 entries, 33042 to 27093\n",
      "Data columns (total 7 columns):\n",
      " #   Column         Non-Null Count  Dtype  \n",
      "---  ------         --------------  -----  \n",
      " 0   recency        16000 non-null  int64  \n",
      " 1   history        16000 non-null  float64\n",
      " 2   used_discount  16000 non-null  int64  \n",
      " 3   used_bogo      16000 non-null  int64  \n",
      " 4   zip_code       16000 non-null  int64  \n",
      " 5   is_referral    16000 non-null  int64  \n",
      " 6   channel        16000 non-null  int64  \n",
      "dtypes: float64(1), int64(6)\n",
      "memory usage: 1000.0 KB\n"
     ]
    }
   ],
   "source": [
    "x_test.info()"
   ]
  },
  {
   "cell_type": "markdown",
   "id": "9721728a",
   "metadata": {},
   "source": [
    "## 05"
   ]
  },
  {
   "cell_type": "code",
   "execution_count": 26,
   "id": "bb892dae",
   "metadata": {},
   "outputs": [],
   "source": [
    "cat_features = ['zip_code', 'channel']\n",
    "\n",
    "pd.DataFrame.iteritems = pd.DataFrame.items"
   ]
  },
  {
   "cell_type": "code",
   "execution_count": 27,
   "id": "92b1dcc2",
   "metadata": {},
   "outputs": [
    {
     "data": {
      "image/png": "[encoded data removed]",
      "text/plain": [
       "<Figure size 2000x700 with 3 Axes>"
      ]
     },
     "metadata": {},
     "output_type": "display_data"
    }
   ],
   "source": [
    "sm = SoloModel(CatBoostClassifier(iterations=20, random_state=42, \n",
    "                                  silent=True, cat_features=cat_features))\n",
    "\n",
    "sm = sm.fit(x_train, y_train, treat_train)\n",
    "\n",
    "uplift_sm = sm.predict(x_test)\n",
    "\n",
    "sm_score_10 = uplift_at_k(y_true=y_test, uplift=uplift_sm, treatment=treat_test, \n",
    "                          strategy='by_group', k=.1)\n",
    "sm_score_20 = uplift_at_k(y_true=y_test, uplift=uplift_sm, treatment=treat_test, \n",
    "                          strategy='by_group', k=.2)\n",
    "sm_metrics = {'approach': 'Solo Model', 'uplift@10%': sm_score_10, 'uplift@20%': sm_score_20}\n",
    "\n",
    "plot_uplift_preds(trmnt_preds=sm.trmnt_preds_, ctrl_preds=sm.ctrl_preds_);"
   ]
  },
  {
   "cell_type": "code",
   "execution_count": 28,
   "id": "87008b19",
   "metadata": {},
   "outputs": [
    {
     "data": {
      "image/png": "[encoded data removed]",
      "text/plain": [
       "<Figure size 640x480 with 1 Axes>"
      ]
     },
     "metadata": {},
     "output_type": "display_data"
    }
   ],
   "source": [
    "plot_uplift_curve(y_test, uplift_sm, treat_test, perfect=False);"
   ]
  },
  {
   "cell_type": "code",
   "execution_count": 29,
   "id": "f5082944",
   "metadata": {},
   "outputs": [],
   "source": [
    "ct = ClassTransformation(CatBoostClassifier(iterations=20, random_state=42, silent=True, \n",
    "                                            cat_features=cat_features))\n",
    "ct = ct.fit(x_train, y_train, treat_train)\n",
    "\n",
    "uplift_ct = ct.predict(x_test)\n",
    "\n",
    "ct_score_10 = uplift_at_k(y_true=y_test, uplift=uplift_ct, treatment=treat_test, \n",
    "                          strategy='by_group', k=.1)\n",
    "ct_score_20 = uplift_at_k(y_true=y_test, uplift=uplift_ct, treatment=treat_test, \n",
    "                          strategy='by_group', k=.2)\n",
    "ct_metrics = {'approach': 'Class Transformation', 'uplift@10%': ct_score_10, \n",
    "              'uplift@20%': ct_score_20}"
   ]
  },
  {
   "cell_type": "code",
   "execution_count": 30,
   "id": "0cfaa9c0",
   "metadata": {},
   "outputs": [
    {
     "data": {
      "image/png": "[encoded data removed]",
      "text/plain": [
       "<Figure size 640x480 with 1 Axes>"
      ]
     },
     "metadata": {},
     "output_type": "display_data"
    }
   ],
   "source": [
    "plot_uplift_curve(y_test, uplift_ct, treat_test, perfect=False);"
   ]
  },
  {
   "cell_type": "code",
   "execution_count": 31,
   "id": "a47ca487",
   "metadata": {},
   "outputs": [
    {
     "data": {
      "image/png": "[encoded data removed]",
      "text/plain": [
       "<Figure size 2000x700 with 3 Axes>"
      ]
     },
     "metadata": {},
     "output_type": "display_data"
    }
   ],
   "source": [
    "tm = TwoModels(\n",
    "    CatBoostClassifier(iterations=20, random_state=42, silent=True, cat_features=cat_features), \n",
    "    CatBoostClassifier(iterations=20, random_state=42, silent=True, cat_features=cat_features), \n",
    "    method='vanilla')\n",
    "tm = tm.fit(x_train, y_train, treat_train)\n",
    "\n",
    "uplift_tm = tm.predict(x_test)\n",
    "\n",
    "tm_score_10 = uplift_at_k(y_true=y_test, uplift=uplift_tm, treatment=treat_test, \n",
    "                          strategy='by_group', k=.1)\n",
    "tm_score_20 = uplift_at_k(y_true=y_test, uplift=uplift_tm, treatment=treat_test, \n",
    "                          strategy='by_group', k=.2)\n",
    "tm_metrics = {'approach': 'Two Independent Model', 'uplift@10%': tm_score_10, \n",
    "              'uplift@20%': tm_score_20}\n",
    "\n",
    "tm_trmnt_preds = tm.trmnt_preds_\n",
    "tm_ctrl_preds = tm.ctrl_preds_\n",
    "\n",
    "plot_uplift_preds(trmnt_preds=tm_trmnt_preds, ctrl_preds=tm_ctrl_preds);"
   ]
  },
  {
   "cell_type": "code",
   "execution_count": 32,
   "id": "2f5f95d5",
   "metadata": {},
   "outputs": [
    {
     "data": {
      "image/png": "[encoded data removed]",
      "text/plain": [
       "<Figure size 640x480 with 1 Axes>"
      ]
     },
     "metadata": {},
     "output_type": "display_data"
    }
   ],
   "source": [
    "plot_uplift_curve(y_test, uplift_tm, treat_test, perfect=False);"
   ]
  },
  {
   "cell_type": "markdown",
   "id": "62c40f6a",
   "metadata": {},
   "source": [
    "## 06"
   ]
  },
  {
   "cell_type": "code",
   "execution_count": 33,
   "id": "6b5cade2",
   "metadata": {},
   "outputs": [
    {
     "data": {
      "text/html": [
       "<div>\n",
       "<style scoped>\n",
       "    .dataframe tbody tr th:only-of-type {\n",
       "        vertical-align: middle;\n",
       "    }\n",
       "\n",
       "    .dataframe tbody tr th {\n",
       "        vertical-align: top;\n",
       "    }\n",
       "\n",
       "    .dataframe thead th {\n",
       "        text-align: right;\n",
       "    }\n",
       "</style>\n",
       "<table border=\"1\" class=\"dataframe\">\n",
       "  <thead>\n",
       "    <tr style=\"text-align: right;\">\n",
       "      <th></th>\n",
       "      <th>approach</th>\n",
       "      <th>uplift@10%</th>\n",
       "      <th>uplift@20%</th>\n",
       "    </tr>\n",
       "  </thead>\n",
       "  <tbody>\n",
       "    <tr>\n",
       "      <th>0</th>\n",
       "      <td>Solo Model</td>\n",
       "      <td>0.135178</td>\n",
       "      <td>0.112432</td>\n",
       "    </tr>\n",
       "    <tr>\n",
       "      <th>1</th>\n",
       "      <td>Class Transformation</td>\n",
       "      <td>0.130616</td>\n",
       "      <td>0.109236</td>\n",
       "    </tr>\n",
       "    <tr>\n",
       "      <th>2</th>\n",
       "      <td>Two Independent Model</td>\n",
       "      <td>0.115410</td>\n",
       "      <td>0.095982</td>\n",
       "    </tr>\n",
       "  </tbody>\n",
       "</table>\n",
       "</div>"
      ],
      "text/plain": [
       "                approach  uplift@10%  uplift@20%\n",
       "0             Solo Model    0.135178    0.112432\n",
       "1   Class Transformation    0.130616    0.109236\n",
       "2  Two Independent Model    0.115410    0.095982"
      ]
     },
     "execution_count": 33,
     "metadata": {},
     "output_type": "execute_result"
    }
   ],
   "source": [
    "df_metrics = pd.DataFrame.from_records([sm_metrics, ct_metrics, tm_metrics])\n",
    "df_metrics"
   ]
  },
  {
   "cell_type": "markdown",
   "id": "fb47fbc4",
   "metadata": {},
   "source": [
    "## 07"
   ]
  },
  {
   "cell_type": "code",
   "execution_count": 34,
   "id": "defd6deb",
   "metadata": {},
   "outputs": [],
   "source": [
    "# Мы не смогли сделать часть домашнего задания при помощи библиотеки causalml, потому что она не\n",
    "# работает. "
   ]
  },
  {
   "cell_type": "markdown",
   "id": "3c97bc4e",
   "metadata": {},
   "source": [
    "## 08"
   ]
  },
  {
   "cell_type": "code",
   "execution_count": 35,
   "id": "6365ed18",
   "metadata": {},
   "outputs": [
    {
     "data": {
      "text/plain": [
       "array([0.03823428, 0.09231884, 0.07467323, ..., 0.05090824, 0.06461601,\n",
       "       0.05011143])"
      ]
     },
     "execution_count": 35,
     "metadata": {},
     "output_type": "execute_result"
    }
   ],
   "source": [
    "uplift_sm"
   ]
  },
  {
   "cell_type": "code",
   "execution_count": 36,
   "id": "5fe70cfb",
   "metadata": {},
   "outputs": [
    {
     "data": {
      "text/html": [
       "<div>\n",
       "<style scoped>\n",
       "    .dataframe tbody tr th:only-of-type {\n",
       "        vertical-align: middle;\n",
       "    }\n",
       "\n",
       "    .dataframe tbody tr th {\n",
       "        vertical-align: top;\n",
       "    }\n",
       "\n",
       "    .dataframe thead th {\n",
       "        text-align: right;\n",
       "    }\n",
       "</style>\n",
       "<table border=\"1\" class=\"dataframe\">\n",
       "  <thead>\n",
       "    <tr style=\"text-align: right;\">\n",
       "      <th></th>\n",
       "      <th>y</th>\n",
       "      <th>uplift</th>\n",
       "    </tr>\n",
       "  </thead>\n",
       "  <tbody>\n",
       "    <tr>\n",
       "      <th>52596</th>\n",
       "      <td>0</td>\n",
       "      <td>0.170652</td>\n",
       "    </tr>\n",
       "    <tr>\n",
       "      <th>26533</th>\n",
       "      <td>1</td>\n",
       "      <td>0.154139</td>\n",
       "    </tr>\n",
       "    <tr>\n",
       "      <th>38313</th>\n",
       "      <td>0</td>\n",
       "      <td>0.150892</td>\n",
       "    </tr>\n",
       "    <tr>\n",
       "      <th>5525</th>\n",
       "      <td>0</td>\n",
       "      <td>0.150892</td>\n",
       "    </tr>\n",
       "    <tr>\n",
       "      <th>27441</th>\n",
       "      <td>1</td>\n",
       "      <td>0.150892</td>\n",
       "    </tr>\n",
       "  </tbody>\n",
       "</table>\n",
       "</div>"
      ],
      "text/plain": [
       "       y    uplift\n",
       "52596  0  0.170652\n",
       "26533  1  0.154139\n",
       "38313  0  0.150892\n",
       "5525   0  0.150892\n",
       "27441  1  0.150892"
      ]
     },
     "execution_count": 36,
     "metadata": {},
     "output_type": "execute_result"
    }
   ],
   "source": [
    "deciles = pd.DataFrame({'y': y_test, 'uplift': uplift_sm}).sort_values('uplift', ascending=False)\n",
    "deciles.head()"
   ]
  },
  {
   "cell_type": "code",
   "execution_count": 37,
   "id": "ca44ce30",
   "metadata": {},
   "outputs": [
    {
     "data": {
      "text/html": [
       "<div>\n",
       "<style scoped>\n",
       "    .dataframe tbody tr th:only-of-type {\n",
       "        vertical-align: middle;\n",
       "    }\n",
       "\n",
       "    .dataframe tbody tr th {\n",
       "        vertical-align: top;\n",
       "    }\n",
       "\n",
       "    .dataframe thead th {\n",
       "        text-align: right;\n",
       "    }\n",
       "</style>\n",
       "<table border=\"1\" class=\"dataframe\">\n",
       "  <thead>\n",
       "    <tr style=\"text-align: right;\">\n",
       "      <th></th>\n",
       "      <th>y</th>\n",
       "      <th>uplift</th>\n",
       "      <th>deciles</th>\n",
       "    </tr>\n",
       "  </thead>\n",
       "  <tbody>\n",
       "    <tr>\n",
       "      <th>52596</th>\n",
       "      <td>0</td>\n",
       "      <td>0.170652</td>\n",
       "      <td>(0.0852, 0.171]</td>\n",
       "    </tr>\n",
       "    <tr>\n",
       "      <th>26533</th>\n",
       "      <td>1</td>\n",
       "      <td>0.154139</td>\n",
       "      <td>(0.0852, 0.171]</td>\n",
       "    </tr>\n",
       "    <tr>\n",
       "      <th>38313</th>\n",
       "      <td>0</td>\n",
       "      <td>0.150892</td>\n",
       "      <td>(0.0852, 0.171]</td>\n",
       "    </tr>\n",
       "    <tr>\n",
       "      <th>5525</th>\n",
       "      <td>0</td>\n",
       "      <td>0.150892</td>\n",
       "      <td>(0.0852, 0.171]</td>\n",
       "    </tr>\n",
       "    <tr>\n",
       "      <th>27441</th>\n",
       "      <td>1</td>\n",
       "      <td>0.150892</td>\n",
       "      <td>(0.0852, 0.171]</td>\n",
       "    </tr>\n",
       "  </tbody>\n",
       "</table>\n",
       "</div>"
      ],
      "text/plain": [
       "       y    uplift          deciles\n",
       "52596  0  0.170652  (0.0852, 0.171]\n",
       "26533  1  0.154139  (0.0852, 0.171]\n",
       "38313  0  0.150892  (0.0852, 0.171]\n",
       "5525   0  0.150892  (0.0852, 0.171]\n",
       "27441  1  0.150892  (0.0852, 0.171]"
      ]
     },
     "execution_count": 37,
     "metadata": {},
     "output_type": "execute_result"
    }
   ],
   "source": [
    "deciles['deciles'] = pd.qcut(x=deciles['uplift'], q=10)\n",
    "deciles.head()"
   ]
  },
  {
   "cell_type": "code",
   "execution_count": 38,
   "id": "12208fe4",
   "metadata": {},
   "outputs": [
    {
     "data": {
      "text/html": [
       "<div>\n",
       "<style scoped>\n",
       "    .dataframe tbody tr th:only-of-type {\n",
       "        vertical-align: middle;\n",
       "    }\n",
       "\n",
       "    .dataframe tbody tr th {\n",
       "        vertical-align: top;\n",
       "    }\n",
       "\n",
       "    .dataframe thead th {\n",
       "        text-align: right;\n",
       "    }\n",
       "</style>\n",
       "<table border=\"1\" class=\"dataframe\">\n",
       "  <thead>\n",
       "    <tr style=\"text-align: right;\">\n",
       "      <th></th>\n",
       "      <th>y_sum</th>\n",
       "      <th>uplift_sum</th>\n",
       "    </tr>\n",
       "    <tr>\n",
       "      <th>deciles</th>\n",
       "      <th></th>\n",
       "      <th></th>\n",
       "    </tr>\n",
       "  </thead>\n",
       "  <tbody>\n",
       "    <tr>\n",
       "      <th>(-0.0269, 0.0307]</th>\n",
       "      <td>177</td>\n",
       "      <td>35.117786</td>\n",
       "    </tr>\n",
       "    <tr>\n",
       "      <th>(0.0307, 0.038]</th>\n",
       "      <td>168</td>\n",
       "      <td>54.899416</td>\n",
       "    </tr>\n",
       "    <tr>\n",
       "      <th>(0.038, 0.0435]</th>\n",
       "      <td>192</td>\n",
       "      <td>65.806464</td>\n",
       "    </tr>\n",
       "    <tr>\n",
       "      <th>(0.0435, 0.048]</th>\n",
       "      <td>219</td>\n",
       "      <td>73.441416</td>\n",
       "    </tr>\n",
       "    <tr>\n",
       "      <th>(0.048, 0.053]</th>\n",
       "      <td>211</td>\n",
       "      <td>80.391455</td>\n",
       "    </tr>\n",
       "    <tr>\n",
       "      <th>(0.053, 0.0586]</th>\n",
       "      <td>213</td>\n",
       "      <td>89.224931</td>\n",
       "    </tr>\n",
       "    <tr>\n",
       "      <th>(0.0586, 0.0651]</th>\n",
       "      <td>241</td>\n",
       "      <td>98.709227</td>\n",
       "    </tr>\n",
       "    <tr>\n",
       "      <th>(0.0651, 0.0746]</th>\n",
       "      <td>260</td>\n",
       "      <td>111.346924</td>\n",
       "    </tr>\n",
       "    <tr>\n",
       "      <th>(0.0746, 0.0852]</th>\n",
       "      <td>267</td>\n",
       "      <td>126.610901</td>\n",
       "    </tr>\n",
       "    <tr>\n",
       "      <th>(0.0852, 0.171]</th>\n",
       "      <td>369</td>\n",
       "      <td>160.540967</td>\n",
       "    </tr>\n",
       "  </tbody>\n",
       "</table>\n",
       "</div>"
      ],
      "text/plain": [
       "                   y_sum  uplift_sum\n",
       "deciles                             \n",
       "(-0.0269, 0.0307]    177   35.117786\n",
       "(0.0307, 0.038]      168   54.899416\n",
       "(0.038, 0.0435]      192   65.806464\n",
       "(0.0435, 0.048]      219   73.441416\n",
       "(0.048, 0.053]       211   80.391455\n",
       "(0.053, 0.0586]      213   89.224931\n",
       "(0.0586, 0.0651]     241   98.709227\n",
       "(0.0651, 0.0746]     260  111.346924\n",
       "(0.0746, 0.0852]     267  126.610901\n",
       "(0.0852, 0.171]      369  160.540967"
      ]
     },
     "execution_count": 38,
     "metadata": {},
     "output_type": "execute_result"
    }
   ],
   "source": [
    "deciles_sum = deciles.groupby('deciles').sum()\n",
    "deciles_sum = deciles_sum.rename(columns={'y': 'y_sum', 'uplift': 'uplift_sum'})\n",
    "deciles_sum"
   ]
  },
  {
   "cell_type": "code",
   "execution_count": 39,
   "id": "3f3dc054",
   "metadata": {},
   "outputs": [
    {
     "data": {
      "text/html": [
       "<div>\n",
       "<style scoped>\n",
       "    .dataframe tbody tr th:only-of-type {\n",
       "        vertical-align: middle;\n",
       "    }\n",
       "\n",
       "    .dataframe tbody tr th {\n",
       "        vertical-align: top;\n",
       "    }\n",
       "\n",
       "    .dataframe thead th {\n",
       "        text-align: right;\n",
       "    }\n",
       "</style>\n",
       "<table border=\"1\" class=\"dataframe\">\n",
       "  <thead>\n",
       "    <tr style=\"text-align: right;\">\n",
       "      <th></th>\n",
       "      <th>y_count</th>\n",
       "      <th>uplift_count</th>\n",
       "    </tr>\n",
       "    <tr>\n",
       "      <th>deciles</th>\n",
       "      <th></th>\n",
       "      <th></th>\n",
       "    </tr>\n",
       "  </thead>\n",
       "  <tbody>\n",
       "    <tr>\n",
       "      <th>(-0.0269, 0.0307]</th>\n",
       "      <td>1603</td>\n",
       "      <td>1603</td>\n",
       "    </tr>\n",
       "    <tr>\n",
       "      <th>(0.0307, 0.038]</th>\n",
       "      <td>1597</td>\n",
       "      <td>1597</td>\n",
       "    </tr>\n",
       "    <tr>\n",
       "      <th>(0.038, 0.0435]</th>\n",
       "      <td>1602</td>\n",
       "      <td>1602</td>\n",
       "    </tr>\n",
       "    <tr>\n",
       "      <th>(0.0435, 0.048]</th>\n",
       "      <td>1605</td>\n",
       "      <td>1605</td>\n",
       "    </tr>\n",
       "    <tr>\n",
       "      <th>(0.048, 0.053]</th>\n",
       "      <td>1595</td>\n",
       "      <td>1595</td>\n",
       "    </tr>\n",
       "    <tr>\n",
       "      <th>(0.053, 0.0586]</th>\n",
       "      <td>1602</td>\n",
       "      <td>1602</td>\n",
       "    </tr>\n",
       "    <tr>\n",
       "      <th>(0.0586, 0.0651]</th>\n",
       "      <td>1599</td>\n",
       "      <td>1599</td>\n",
       "    </tr>\n",
       "    <tr>\n",
       "      <th>(0.0651, 0.0746]</th>\n",
       "      <td>1597</td>\n",
       "      <td>1597</td>\n",
       "    </tr>\n",
       "    <tr>\n",
       "      <th>(0.0746, 0.0852]</th>\n",
       "      <td>1603</td>\n",
       "      <td>1603</td>\n",
       "    </tr>\n",
       "    <tr>\n",
       "      <th>(0.0852, 0.171]</th>\n",
       "      <td>1597</td>\n",
       "      <td>1597</td>\n",
       "    </tr>\n",
       "  </tbody>\n",
       "</table>\n",
       "</div>"
      ],
      "text/plain": [
       "                   y_count  uplift_count\n",
       "deciles                                 \n",
       "(-0.0269, 0.0307]     1603          1603\n",
       "(0.0307, 0.038]       1597          1597\n",
       "(0.038, 0.0435]       1602          1602\n",
       "(0.0435, 0.048]       1605          1605\n",
       "(0.048, 0.053]        1595          1595\n",
       "(0.053, 0.0586]       1602          1602\n",
       "(0.0586, 0.0651]      1599          1599\n",
       "(0.0651, 0.0746]      1597          1597\n",
       "(0.0746, 0.0852]      1603          1603\n",
       "(0.0852, 0.171]       1597          1597"
      ]
     },
     "execution_count": 39,
     "metadata": {},
     "output_type": "execute_result"
    }
   ],
   "source": [
    "deciles_count = deciles.groupby('deciles').count()\n",
    "deciles_count = deciles_count.rename(columns={'y': 'y_count', 'uplift': 'uplift_count'})\n",
    "deciles_count"
   ]
  },
  {
   "cell_type": "code",
   "execution_count": 40,
   "id": "42925223",
   "metadata": {},
   "outputs": [
    {
     "data": {
      "text/html": [
       "<div>\n",
       "<style scoped>\n",
       "    .dataframe tbody tr th:only-of-type {\n",
       "        vertical-align: middle;\n",
       "    }\n",
       "\n",
       "    .dataframe tbody tr th {\n",
       "        vertical-align: top;\n",
       "    }\n",
       "\n",
       "    .dataframe thead th {\n",
       "        text-align: right;\n",
       "    }\n",
       "</style>\n",
       "<table border=\"1\" class=\"dataframe\">\n",
       "  <thead>\n",
       "    <tr style=\"text-align: right;\">\n",
       "      <th></th>\n",
       "      <th>y_sum</th>\n",
       "      <th>uplift_sum</th>\n",
       "      <th>y_count</th>\n",
       "      <th>uplift_count</th>\n",
       "      <th>conversion</th>\n",
       "    </tr>\n",
       "    <tr>\n",
       "      <th>deciles</th>\n",
       "      <th></th>\n",
       "      <th></th>\n",
       "      <th></th>\n",
       "      <th></th>\n",
       "      <th></th>\n",
       "    </tr>\n",
       "  </thead>\n",
       "  <tbody>\n",
       "    <tr>\n",
       "      <th>(0.0852, 0.171]</th>\n",
       "      <td>369</td>\n",
       "      <td>160.540967</td>\n",
       "      <td>1597</td>\n",
       "      <td>1597</td>\n",
       "      <td>0.231058</td>\n",
       "    </tr>\n",
       "    <tr>\n",
       "      <th>(0.0746, 0.0852]</th>\n",
       "      <td>267</td>\n",
       "      <td>126.610901</td>\n",
       "      <td>1603</td>\n",
       "      <td>1603</td>\n",
       "      <td>0.166563</td>\n",
       "    </tr>\n",
       "    <tr>\n",
       "      <th>(0.0651, 0.0746]</th>\n",
       "      <td>260</td>\n",
       "      <td>111.346924</td>\n",
       "      <td>1597</td>\n",
       "      <td>1597</td>\n",
       "      <td>0.162805</td>\n",
       "    </tr>\n",
       "    <tr>\n",
       "      <th>(0.0586, 0.0651]</th>\n",
       "      <td>241</td>\n",
       "      <td>98.709227</td>\n",
       "      <td>1599</td>\n",
       "      <td>1599</td>\n",
       "      <td>0.150719</td>\n",
       "    </tr>\n",
       "    <tr>\n",
       "      <th>(0.053, 0.0586]</th>\n",
       "      <td>213</td>\n",
       "      <td>89.224931</td>\n",
       "      <td>1602</td>\n",
       "      <td>1602</td>\n",
       "      <td>0.132959</td>\n",
       "    </tr>\n",
       "    <tr>\n",
       "      <th>(0.048, 0.053]</th>\n",
       "      <td>211</td>\n",
       "      <td>80.391455</td>\n",
       "      <td>1595</td>\n",
       "      <td>1595</td>\n",
       "      <td>0.132288</td>\n",
       "    </tr>\n",
       "    <tr>\n",
       "      <th>(0.0435, 0.048]</th>\n",
       "      <td>219</td>\n",
       "      <td>73.441416</td>\n",
       "      <td>1605</td>\n",
       "      <td>1605</td>\n",
       "      <td>0.136449</td>\n",
       "    </tr>\n",
       "    <tr>\n",
       "      <th>(0.038, 0.0435]</th>\n",
       "      <td>192</td>\n",
       "      <td>65.806464</td>\n",
       "      <td>1602</td>\n",
       "      <td>1602</td>\n",
       "      <td>0.119850</td>\n",
       "    </tr>\n",
       "    <tr>\n",
       "      <th>(0.0307, 0.038]</th>\n",
       "      <td>168</td>\n",
       "      <td>54.899416</td>\n",
       "      <td>1597</td>\n",
       "      <td>1597</td>\n",
       "      <td>0.105197</td>\n",
       "    </tr>\n",
       "    <tr>\n",
       "      <th>(-0.0269, 0.0307]</th>\n",
       "      <td>177</td>\n",
       "      <td>35.117786</td>\n",
       "      <td>1603</td>\n",
       "      <td>1603</td>\n",
       "      <td>0.110418</td>\n",
       "    </tr>\n",
       "  </tbody>\n",
       "</table>\n",
       "</div>"
      ],
      "text/plain": [
       "                   y_sum  uplift_sum  y_count  uplift_count  conversion\n",
       "deciles                                                                \n",
       "(0.0852, 0.171]      369  160.540967     1597          1597    0.231058\n",
       "(0.0746, 0.0852]     267  126.610901     1603          1603    0.166563\n",
       "(0.0651, 0.0746]     260  111.346924     1597          1597    0.162805\n",
       "(0.0586, 0.0651]     241   98.709227     1599          1599    0.150719\n",
       "(0.053, 0.0586]      213   89.224931     1602          1602    0.132959\n",
       "(0.048, 0.053]       211   80.391455     1595          1595    0.132288\n",
       "(0.0435, 0.048]      219   73.441416     1605          1605    0.136449\n",
       "(0.038, 0.0435]      192   65.806464     1602          1602    0.119850\n",
       "(0.0307, 0.038]      168   54.899416     1597          1597    0.105197\n",
       "(-0.0269, 0.0307]    177   35.117786     1603          1603    0.110418"
      ]
     },
     "execution_count": 40,
     "metadata": {},
     "output_type": "execute_result"
    }
   ],
   "source": [
    "deciles_conversion = pd.concat([deciles_sum, deciles_count], axis=1)\n",
    "deciles_conversion['conversion'] = deciles_conversion['y_sum'] / deciles_conversion['y_count']\n",
    "deciles_conversion.sort_values('deciles', ascending=False)"
   ]
  }
 ],
 "metadata": {
  "kernelspec": {
   "display_name": "Python 3 (ipykernel)",
   "language": "python",
   "name": "python3"
  },
  "language_info": {
   "codemirror_mode": {
    "name": "ipython",
    "version": 3
   },
   "file_extension": ".py",
   "mimetype": "text/x-python",
   "name": "python",
   "nbconvert_exporter": "python",
   "pygments_lexer": "ipython3",
   "version": "3.10.12"
  }
 },
 "nbformat": 4,
 "nbformat_minor": 5
}
